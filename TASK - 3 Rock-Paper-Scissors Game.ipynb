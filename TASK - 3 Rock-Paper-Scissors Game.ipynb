{
 "cells": [
  {
   "cell_type": "markdown",
   "id": "2a146b43",
   "metadata": {},
   "source": [
    "# Rock-Paper-Scissors Game"
   ]
  },
  {
   "cell_type": "code",
   "execution_count": null,
   "id": "f8fc4664",
   "metadata": {},
   "outputs": [
    {
     "name": "stdout",
     "output_type": "stream",
     "text": [
      "Welcome to Rock, Paper, Scissors!\n",
      "Enter your choice (rock/paper/scissors): f\n",
      "Invalid choice. Please enter rock, paper, or scissors.\n",
      "Enter your choice (rock/paper/scissors): f\n",
      "Invalid choice. Please enter rock, paper, or scissors.\n",
      "Enter your choice (rock/paper/scissors): f\n",
      "Invalid choice. Please enter rock, paper, or scissors.\n",
      "Enter your choice (rock/paper/scissors): rock\n",
      "You chose: rock\n",
      "Computer chose: scissors\n",
      "You win!\n"
     ]
    }
   ],
   "source": [
    "import random\n",
    "\n",
    "def get_user_choice():\n",
    "    choice = input(\"Enter your choice (rock/paper/scissors): \").lower()\n",
    "    while choice not in ['rock', 'paper', 'scissors']:\n",
    "        print(\"Invalid choice. Please enter rock, paper, or scissors.\")\n",
    "        choice = input(\"Enter your choice (rock/paper/scissors): \").lower()\n",
    "    return choice\n",
    "\n",
    "def get_computer_choice():\n",
    "    return random.choice(['rock', 'paper', 'scissors'])\n",
    "\n",
    "def determine_winner(user_choice, computer_choice):\n",
    "    if user_choice == computer_choice:\n",
    "        return \"It's a tie!\"\n",
    "    elif (user_choice == 'rock' and computer_choice == 'scissors') or \\\n",
    "         (user_choice == 'paper' and computer_choice == 'rock') or \\\n",
    "         (user_choice == 'scissors' and computer_choice == 'paper'):\n",
    "        return \"You win!\"\n",
    "    else:\n",
    "        return \"Computer wins!\"\n",
    "\n",
    "def main():\n",
    "    print(\"Welcome to Rock, Paper, Scissors!\")\n",
    "    play_again = 'yes'\n",
    "    while play_again.lower() == 'yes':\n",
    "        user_choice = get_user_choice()\n",
    "        computer_choice = get_computer_choice()\n",
    "        print(\"You chose:\", user_choice)\n",
    "        print(\"Computer chose:\", computer_choice)\n",
    "        print(determine_winner(user_choice, computer_choice))\n",
    "        play_again = input(\"Do you want to play again? (yes/no): \")\n",
    "\n",
    "if __name__ == \"__main__\":\n",
    "    main()\n"
   ]
  },
  {
   "cell_type": "code",
   "execution_count": null,
   "id": "3e4a16ff",
   "metadata": {},
   "outputs": [],
   "source": []
  }
 ],
 "metadata": {
  "kernelspec": {
   "display_name": "Python 3 (ipykernel)",
   "language": "python",
   "name": "python3"
  },
  "language_info": {
   "codemirror_mode": {
    "name": "ipython",
    "version": 3
   },
   "file_extension": ".py",
   "mimetype": "text/x-python",
   "name": "python",
   "nbconvert_exporter": "python",
   "pygments_lexer": "ipython3",
   "version": "3.11.5"
  }
 },
 "nbformat": 4,
 "nbformat_minor": 5
}
